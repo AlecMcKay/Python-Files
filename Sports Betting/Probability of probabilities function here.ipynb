{
 "cells": [
  {
   "cell_type": "code",
   "execution_count": 68,
   "metadata": {},
   "outputs": [],
   "source": [
    "import random\n",
    "import numpy as np\n",
    "import matplotlib.pyplot as plt\n",
    "import operator as op\n",
    "from functools import reduce"
   ]
  },
  {
   "cell_type": "code",
   "execution_count": 69,
   "metadata": {},
   "outputs": [],
   "source": [
    "# I want to develop a test to check if a random number generator produces a uniform distrubition\n",
    "# I want to do this because I want to make a test for a specific distrubition but simplifying first for insight\n",
    "\n",
    "# I will do this by creating bins, each of width delta_x.\n",
    "# If a points falls between the endpoints of a bin, it will be added to list containing all points where this is true.\n",
    "# Then I will divide the list size of each bin (the frequency of each bin) by the total number of points calculated.\n",
    "# This will provide me with the relative frequency of each interval.\n",
    "# Once this is done, a graph can be printed for an intuitive (but possible errors) check\n",
    "\n",
    "# However, I want more of a rigorious check, but will not continue down that path until intuitive check is possible\n",
    "\n",
    "\n",
    "# this method plots a generator on a histogram w/ specified interval length and points generated\n",
    "#\n",
    "# @param (int) bin_count - this is the number of bins/intervals to include in the histogram\n",
    "#\n",
    "# @param (int) samples - this is the number of points to be calculated by the generator\n",
    "#\n",
    "#\n",
    "#\n",
    "def testRandom(bin_count, sample_count):\n",
    "    bins = []\n",
    "    points = []\n",
    "    \n",
    "    # bins ranges from 0 to 1\n",
    "    for i in range(0, bin_count):\n",
    "        bins.append(i / bin_count)\n",
    "    \n",
    "    for i in range(sample_count):\n",
    "        points.append(random.random())\n",
    "    \n",
    "    plt.hist(points, histtype='bar', bins=bins)\n",
    "\n",
    "    plt.xlabel('Value')\n",
    "    plt.ylabel('Frequency')\n",
    "    plt.title('random.random()')\n",
    "    # now that bins are calculated, need list of sample points, then graph and histogram will produce\n",
    "    # also want to see how to graph relative frequency\n",
    "\n",
    "    \n",
    "    "
   ]
  },
  {
   "cell_type": "code",
   "execution_count": 70,
   "metadata": {},
   "outputs": [
    {
     "data": {
      "image/png": "[encoded data removed]",
      "text/plain": [
       "<Figure size 432x288 with 1 Axes>"
      ]
     },
     "metadata": {
      "needs_background": "light"
     },
     "output_type": "display_data"
    }
   ],
   "source": [
    "bin_count = 1000\n",
    "sample_count = 100000\n",
    "testRandom(bin_count, sample_count)"
   ]
  },
  {
   "cell_type": "code",
   "execution_count": 71,
   "metadata": {
    "scrolled": true
   },
   "outputs": [
    {
     "data": {
      "text/plain": [
       "0.5"
      ]
     },
     "execution_count": 71,
     "metadata": {},
     "output_type": "execute_result"
    }
   ],
   "source": [
    "# this function was copied from stack overflow\n",
    "# it calculates the value of nCr (n choose r)\n",
    "#\n",
    "def ncr(n, r):\n",
    "    r = min(r, n-r)\n",
    "    numer = reduce(op.mul, range(n, n-r, -1), 1)\n",
    "    denom = reduce(op.mul, range(1, r+1), 1)\n",
    "    return numer // denom  # or / in Python 2\n",
    "\n",
    "\n",
    "# this function returns probability of p being the long-term frequency of a given event, A, occuring given outcomes (k,m)\n",
    "#\n",
    "# @param (int) n - this is the number of times a measurement is made\n",
    "#\n",
    "# @param (int) k - this is the number of times event A is measured\n",
    "#\n",
    "# @param (float) p - this is the probabilitiy of event A being measured\n",
    "#\n",
    "# @return (float) w - this is the probability that p produces the measured set of outcomes\n",
    "#\n",
    "# constraints:\n",
    "# 0 < k <= n\n",
    "# 0 <= p <= 1\n",
    "# 0 <= w <= 1\n",
    "#\n",
    "def weight(n, k, p):\n",
    "    # probability(p) = probability(measuring k out of n measurments)\n",
    "    # probability(measuring k out of n) = probability(measuring one permutation of k out of n) * (number of ways to measure k out of n)\n",
    "    # probability(measuring one permutation of k out of n) = (p^k)(1-p)^(n-k)\n",
    "    # number of ways = math.comb(n, k)\n",
    "    \n",
    "    weight = (p ** k) * ((1 - p) ** (n - k)) * ncr(n, k)\n",
    "    return weight\n",
    "\n",
    "# this function does the same as weight, but takes in a list and returns a list instead of a single value\n",
    "#\n",
    "# @param (int) n - this is the number of times a measurement is made\n",
    "#\n",
    "# @param (int) k - this is the number of times event A is measured\n",
    "#\n",
    "# @param (list) values - these are the selected values to be given a weight\n",
    "# example: values = [0, 0.1, 0.2, ..., 0.9, 1]\n",
    "#\n",
    "# @return (list) weights - this is the list of weights for the corresponding list of values\n",
    "#\n",
    "def calcWeights(n, k, values):\n",
    "    # this function takes in a list of values to get weights\n",
    "    weights = []\n",
    "    for i in range(len(values)):\n",
    "        weights.append(weight(n, k, values[i]))\n",
    "    return weights\n",
    "\n",
    "# this function normalizes the list of weights, ie changes values of weights such that the sum of weights is 1\n",
    "#\n",
    "# @param (list) weights - this the list of weights for the corresponding list of values\n",
    "#\n",
    "# @return (list) normal_weights - this is equal to weights but every element is divided by the sum of all the elements\n",
    "#\n",
    "def normalize(weights):\n",
    "    normalization_constant = sum(weights)\n",
    "\n",
    "    normal_weights = []\n",
    "    for i in range(len(weights)):\n",
    "        normal_weight = weights[i] / normalization_constant\n",
    "        normal_weights.append(normal_weight)\n",
    "    \n",
    "    return normal_weights\n",
    "\n",
    "\n",
    "# this function takes in an interval and a step size and returns a list of values each incremented by the step size\n",
    "#\n",
    "# @param (float) step_size - this is how much each neighboring value in the list differs by\n",
    "#\n",
    "# @param (float) lower_bound - this is the lower_bound of the values\n",
    "# default: lower_bound=0\n",
    "#\n",
    "# @param (float) upper_bound - this is the upper_bound of the values\n",
    "# default: upper_bound=1\n",
    "#\n",
    "# @return (list) values - this is the list of values between the lower and upper bound with increments equal to step_size\n",
    "# \n",
    "def createValues(step_size, lower_bound=0, upper_bound=1):\n",
    "    values = []\n",
    "    \n",
    "    step_count = int((upper_bound - lower_bound) / step_size)\n",
    "    \n",
    "    for i in range(step_count):\n",
    "        value = lower_bound + i * step_size\n",
    "        values.append(value)\n",
    "    \n",
    "    return values\n",
    "\n",
    "# need step size (may make constant in future), n, and k\n",
    "# output is 'random number'\n",
    "#\n",
    "# @param (float) step_size - this is how much each neighboring value in the list differs by\n",
    "#\n",
    "# @param (int) n - this is the number of times a measurement is made\n",
    "#\n",
    "# @param (int) k - this is the number of times event A is measured\n",
    "#\n",
    "def randomProb(step_size, n, k):\n",
    "    values = createValues(step_size)\n",
    "    weights = calcWeights(n, k, values)\n",
    "    normal_weights = normalize(weights)\n",
    "    prob = np.random.choice(values, p=normal_weights)\n",
    "    return prob\n",
    "\n",
    "randomProb(0.1, 10, 3)\n",
    "# now want to plot histogram for this    \n",
    "    \n",
    "\n",
    "\n"
   ]
  },
  {
   "cell_type": "code",
   "execution_count": 74,
   "metadata": {
    "scrolled": true
   },
   "outputs": [
    {
     "data": {
      "image/png": "[encoded data removed]",
      "text/plain": [
       "<Figure size 432x288 with 1 Axes>"
      ]
     },
     "metadata": {
      "needs_background": "light"
     },
     "output_type": "display_data"
    }
   ],
   "source": [
    "def randomProbHist(sample_count, step_size, n, k):\n",
    "    values = createValues(step_size)\n",
    "    weights = calcWeights(n, k, values)\n",
    "    normal_weights = normalize(weights)\n",
    "    random_numbers = []\n",
    "    for i in range(sample_count):\n",
    "        random_number = np.random.choice(values, p=normal_weights)\n",
    "        random_numbers.append(random_number)\n",
    "    \n",
    "    plt.hist(random_numbers, density=True, histtype='bar', bins=values)\n",
    "\n",
    "    plt.xlabel('Value')\n",
    "    plt.ylabel('Frequency')\n",
    "    plt.title('randomProb from bin distr')\n",
    "        \n",
    "sample_count = 100000\n",
    "step_size = 0.001\n",
    "n = 10\n",
    "k = 4\n",
    "\n",
    "\n",
    "randomProbHist(sample_count, step_size, n, k)"
   ]
  },
  {
   "cell_type": "code",
   "execution_count": null,
   "metadata": {},
   "outputs": [],
   "source": [
    "# sim for prob of prob testing\n",
    "# input (team A Ft (k1/n1), and team B FT (k2/n2)))\n",
    "# Output is histogram of spread\n",
    "#\n",
    "# how to get a histogram of spread\n",
    "# i would need to simulate (lets say 10000) spreads\n",
    "# how do i simulate a spread\n",
    "# i simulate a game of ft's, then subtract team A score from team B score\n",
    "# how do i simulate a game of ft's?\n",
    "# what is a game of ft's\n",
    "# A game of ft's, team A shoots n (lets say 10) fts, then team B shoots 10 free throws\n",
    "# if a team makes a ft, they get 1 point\n",
    "# How do i simulate a game of ft's?\n",
    "# What is a simulation?\n",
    "# It is a type of method?\n",
    "# What is input for method?\n",
    "# Input is data, / initial Game object?\n",
    "# What data is given?\n",
    "# We have team A's # of FTs taken, and # of FTs made\n",
    "# We have the same for team B\n",
    "# What is the output for method?\n",
    "# Final game object/many final game objects?\n",
    "#\n",
    "# Input data: 37/60 free throws made for team A\n",
    "# 31/40 free throws made for team b\n",
    "#\n"
   ]
  }
 ],
 "metadata": {
  "kernelspec": {
   "display_name": "Python 3",
   "language": "python",
   "name": "python3"
  },
  "language_info": {
   "codemirror_mode": {
    "name": "ipython",
    "version": 3
   },
   "file_extension": ".py",
   "mimetype": "text/x-python",
   "name": "python",
   "nbconvert_exporter": "python",
   "pygments_lexer": "ipython3",
   "version": "3.7.4"
  }
 },
 "nbformat": 4,
 "nbformat_minor": 2
}
